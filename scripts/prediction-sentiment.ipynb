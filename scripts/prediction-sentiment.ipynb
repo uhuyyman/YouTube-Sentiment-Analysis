{
 "cells": [
  {
   "cell_type": "markdown",
   "metadata": {},
   "source": [
    "# Data Labeling Classification"
   ]
  },
  {
   "cell_type": "markdown",
   "metadata": {},
   "source": [
    "## Import Library"
   ]
  },
  {
   "cell_type": "code",
   "execution_count": 1,
   "metadata": {},
   "outputs": [
    {
     "name": "stderr",
     "output_type": "stream",
     "text": [
      "d:\\Coolyeah\\Tugas\\AI\\finpro\\.venv\\Lib\\site-packages\\tqdm\\auto.py:21: TqdmWarning: IProgress not found. Please update jupyter and ipywidgets. See https://ipywidgets.readthedocs.io/en/stable/user_install.html\n",
      "  from .autonotebook import tqdm as notebook_tqdm\n"
     ]
    }
   ],
   "source": [
    "from tqdm import tqdm\n",
    "import pandas as pd\n",
    "import transformers\n",
    "from transformers import pipeline\n",
    "import matplotlib.pyplot as plt\n",
    "import ast"
   ]
  },
  {
   "cell_type": "markdown",
   "metadata": {},
   "source": [
    "## Data"
   ]
  },
  {
   "cell_type": "markdown",
   "metadata": {},
   "source": [
    "### Load CSV"
   ]
  },
  {
   "cell_type": "code",
   "execution_count": 2,
   "metadata": {},
   "outputs": [
    {
     "data": {
      "text/html": [
       "<div>\n",
       "<style scoped>\n",
       "    .dataframe tbody tr th:only-of-type {\n",
       "        vertical-align: middle;\n",
       "    }\n",
       "\n",
       "    .dataframe tbody tr th {\n",
       "        vertical-align: top;\n",
       "    }\n",
       "\n",
       "    .dataframe thead th {\n",
       "        text-align: right;\n",
       "    }\n",
       "</style>\n",
       "<table border=\"1\" class=\"dataframe\">\n",
       "  <thead>\n",
       "    <tr style=\"text-align: right;\">\n",
       "      <th></th>\n",
       "      <th>comment</th>\n",
       "      <th>cleaned_comment</th>\n",
       "      <th>tokenized_comment</th>\n",
       "      <th>stopwords_comment</th>\n",
       "      <th>stemmed_comment</th>\n",
       "      <th>cleaned_stemmed</th>\n",
       "    </tr>\n",
       "  </thead>\n",
       "  <tbody>\n",
       "    <tr>\n",
       "      <th>0</th>\n",
       "      <td>1 POIN PERDANA!!!! Berapa Nilai Untuk Pertandi...</td>\n",
       "      <td>poin perdana berapa nilai untuk pertandingan t...</td>\n",
       "      <td>['poin', 'perdana', 'berapa', 'nilai', 'untuk'...</td>\n",
       "      <td>['poin', 'perdana', 'nilai', 'pertandingan', '...</td>\n",
       "      <td>['poin', 'perdana', 'nilai', 'tanding', 'timna...</td>\n",
       "      <td>poin perdana nilai tanding timnas senior hadap...</td>\n",
       "    </tr>\n",
       "    <tr>\n",
       "      <th>1</th>\n",
       "      <td>GarudaQ sekarang sekelas argentina..vietnam bs...</td>\n",
       "      <td>garudaq sekarang sekelas argentina vietnam bis...</td>\n",
       "      <td>['garudaq', 'sekarang', 'sekelas', 'argentina'...</td>\n",
       "      <td>['garudaq', 'sekelas', 'argentina', 'vietnam',...</td>\n",
       "      <td>['garudaq', 'kelas', 'argentina', 'vietnam', '...</td>\n",
       "      <td>garudaq kelas argentina vietnam kalahkn timnas...</td>\n",
       "    </tr>\n",
       "    <tr>\n",
       "      <th>2</th>\n",
       "      <td>Padahal mau lihat mancini di gbk tapi eh di pe...</td>\n",
       "      <td>padahal mau lihat mancini di gbk tapi eh di pe...</td>\n",
       "      <td>['padahal', 'mau', 'lihat', 'mancini', 'di', '...</td>\n",
       "      <td>['lihat', 'mancini', 'gbk', 'eh', 'pecat']</td>\n",
       "      <td>['lihat', 'mancini', 'gbk', 'eh', 'pecat']</td>\n",
       "      <td>lihat mancini gbk eh pecat</td>\n",
       "    </tr>\n",
       "    <tr>\n",
       "      <th>3</th>\n",
       "      <td>Pffsoz</td>\n",
       "      <td>pffsoz</td>\n",
       "      <td>['pffsoz']</td>\n",
       "      <td>['pffsoz']</td>\n",
       "      <td>['pffsoz']</td>\n",
       "      <td>pffsoz</td>\n",
       "    </tr>\n",
       "    <tr>\n",
       "      <th>4</th>\n",
       "      <td>shin busukk indo laos 33 busuuuukkk</td>\n",
       "      <td>shin busukk indo laos busuukk</td>\n",
       "      <td>['shin', 'busukk', 'indo', 'laos', 'busuukk']</td>\n",
       "      <td>['shin', 'busukk', 'indo', 'laos', 'busuukk']</td>\n",
       "      <td>['shin', 'busukk', 'indo', 'laos', 'busuukk']</td>\n",
       "      <td>shin busukk indo laos busuukk</td>\n",
       "    </tr>\n",
       "  </tbody>\n",
       "</table>\n",
       "</div>"
      ],
      "text/plain": [
       "                                             comment  \\\n",
       "0  1 POIN PERDANA!!!! Berapa Nilai Untuk Pertandi...   \n",
       "1  GarudaQ sekarang sekelas argentina..vietnam bs...   \n",
       "2  Padahal mau lihat mancini di gbk tapi eh di pe...   \n",
       "3                                             Pffsoz   \n",
       "4                shin busukk indo laos 33 busuuuukkk   \n",
       "\n",
       "                                     cleaned_comment  \\\n",
       "0  poin perdana berapa nilai untuk pertandingan t...   \n",
       "1  garudaq sekarang sekelas argentina vietnam bis...   \n",
       "2  padahal mau lihat mancini di gbk tapi eh di pe...   \n",
       "3                                             pffsoz   \n",
       "4                      shin busukk indo laos busuukk   \n",
       "\n",
       "                                   tokenized_comment  \\\n",
       "0  ['poin', 'perdana', 'berapa', 'nilai', 'untuk'...   \n",
       "1  ['garudaq', 'sekarang', 'sekelas', 'argentina'...   \n",
       "2  ['padahal', 'mau', 'lihat', 'mancini', 'di', '...   \n",
       "3                                         ['pffsoz']   \n",
       "4      ['shin', 'busukk', 'indo', 'laos', 'busuukk']   \n",
       "\n",
       "                                   stopwords_comment  \\\n",
       "0  ['poin', 'perdana', 'nilai', 'pertandingan', '...   \n",
       "1  ['garudaq', 'sekelas', 'argentina', 'vietnam',...   \n",
       "2         ['lihat', 'mancini', 'gbk', 'eh', 'pecat']   \n",
       "3                                         ['pffsoz']   \n",
       "4      ['shin', 'busukk', 'indo', 'laos', 'busuukk']   \n",
       "\n",
       "                                     stemmed_comment  \\\n",
       "0  ['poin', 'perdana', 'nilai', 'tanding', 'timna...   \n",
       "1  ['garudaq', 'kelas', 'argentina', 'vietnam', '...   \n",
       "2         ['lihat', 'mancini', 'gbk', 'eh', 'pecat']   \n",
       "3                                         ['pffsoz']   \n",
       "4      ['shin', 'busukk', 'indo', 'laos', 'busuukk']   \n",
       "\n",
       "                                     cleaned_stemmed  \n",
       "0  poin perdana nilai tanding timnas senior hadap...  \n",
       "1  garudaq kelas argentina vietnam kalahkn timnas...  \n",
       "2                         lihat mancini gbk eh pecat  \n",
       "3                                             pffsoz  \n",
       "4                      shin busukk indo laos busuukk  "
      ]
     },
     "execution_count": 2,
     "metadata": {},
     "output_type": "execute_result"
    }
   ],
   "source": [
    "youtube_dataset = pd.read_csv(\"../data/youtube-comment-cleaned.csv\")\n",
    "youtube_dataset.head()"
   ]
  },
  {
   "cell_type": "markdown",
   "metadata": {},
   "source": [
    "### Cleaning Confirmation"
   ]
  },
  {
   "cell_type": "code",
   "execution_count": 3,
   "metadata": {},
   "outputs": [
    {
     "data": {
      "text/plain": [
       "comment              0\n",
       "cleaned_comment      0\n",
       "tokenized_comment    0\n",
       "stopwords_comment    0\n",
       "stemmed_comment      0\n",
       "cleaned_stemmed      0\n",
       "dtype: int64"
      ]
     },
     "execution_count": 3,
     "metadata": {},
     "output_type": "execute_result"
    }
   ],
   "source": [
    "youtube_dataset = youtube_dataset.dropna()\n",
    "youtube_dataset.isnull().sum()"
   ]
  },
  {
   "cell_type": "markdown",
   "metadata": {},
   "source": [
    "## Classification Using Bigger Model"
   ]
  },
  {
   "cell_type": "markdown",
   "metadata": {},
   "source": [
    "### Define Variable and Function"
   ]
  },
  {
   "cell_type": "code",
   "execution_count": 4,
   "metadata": {},
   "outputs": [
    {
     "name": "stderr",
     "output_type": "stream",
     "text": [
      "d:\\Coolyeah\\Tugas\\AI\\finpro\\.venv\\Lib\\site-packages\\huggingface_hub\\file_download.py:140: UserWarning: `huggingface_hub` cache-system uses symlinks by default to efficiently store duplicated files but your machine does not support them in C:\\Users\\H P\\.cache\\huggingface\\hub\\models--lxyuan--distilbert-base-multilingual-cased-sentiments-student. Caching files will still work but in a degraded version that might require more space on your disk. This warning can be disabled by setting the `HF_HUB_DISABLE_SYMLINKS_WARNING` environment variable. For more details, see https://huggingface.co/docs/huggingface_hub/how-to-cache#limitations.\n",
      "To support symlinks on Windows, you either need to activate Developer Mode or to run Python as an administrator. In order to activate developer mode, see this article: https://docs.microsoft.com/en-us/windows/apps/get-started/enable-your-device-for-development\n",
      "  warnings.warn(message)\n",
      "d:\\Coolyeah\\Tugas\\AI\\finpro\\.venv\\Lib\\site-packages\\transformers\\pipelines\\text_classification.py:104: UserWarning: `return_all_scores` is now deprecated,  if want a similar functionality use `top_k=None` instead of `return_all_scores=True` or `top_k=1` instead of `return_all_scores=False`.\n",
      "  warnings.warn(\n"
     ]
    }
   ],
   "source": [
    "distilled_student_sentiment_classifier = pipeline(\n",
    "    model=\"lxyuan/distilbert-base-multilingual-cased-sentiments-student\",\n",
    "    return_all_scores=True,\n",
    "    truncation=True\n",
    ")\n",
    "\n",
    "def sentiment_analysis(text):\n",
    "    result = distilled_student_sentiment_classifier(text)\n",
    "    highest_score_label = max(result[0], key=lambda x: x['score'])['label']\n",
    "    return highest_score_label"
   ]
  },
  {
   "cell_type": "markdown",
   "metadata": {},
   "source": [
    "### Apply Function"
   ]
  },
  {
   "cell_type": "code",
   "execution_count": 5,
   "metadata": {},
   "outputs": [
    {
     "name": "stderr",
     "output_type": "stream",
     "text": [
      "100%|██████████| 21664/21664 [14:19<00:00, 25.19it/s]\n"
     ]
    },
    {
     "data": {
      "text/html": [
       "<div>\n",
       "<style scoped>\n",
       "    .dataframe tbody tr th:only-of-type {\n",
       "        vertical-align: middle;\n",
       "    }\n",
       "\n",
       "    .dataframe tbody tr th {\n",
       "        vertical-align: top;\n",
       "    }\n",
       "\n",
       "    .dataframe thead th {\n",
       "        text-align: right;\n",
       "    }\n",
       "</style>\n",
       "<table border=\"1\" class=\"dataframe\">\n",
       "  <thead>\n",
       "    <tr style=\"text-align: right;\">\n",
       "      <th></th>\n",
       "      <th>comment</th>\n",
       "      <th>cleaned_comment</th>\n",
       "      <th>tokenized_comment</th>\n",
       "      <th>stopwords_comment</th>\n",
       "      <th>stemmed_comment</th>\n",
       "      <th>cleaned_stemmed</th>\n",
       "      <th>sentiment_prediction</th>\n",
       "    </tr>\n",
       "  </thead>\n",
       "  <tbody>\n",
       "    <tr>\n",
       "      <th>0</th>\n",
       "      <td>1 POIN PERDANA!!!! Berapa Nilai Untuk Pertandi...</td>\n",
       "      <td>poin perdana berapa nilai untuk pertandingan t...</td>\n",
       "      <td>['poin', 'perdana', 'berapa', 'nilai', 'untuk'...</td>\n",
       "      <td>['poin', 'perdana', 'nilai', 'pertandingan', '...</td>\n",
       "      <td>['poin', 'perdana', 'nilai', 'tanding', 'timna...</td>\n",
       "      <td>poin perdana nilai tanding timnas senior hadap...</td>\n",
       "      <td>positive</td>\n",
       "    </tr>\n",
       "    <tr>\n",
       "      <th>1</th>\n",
       "      <td>GarudaQ sekarang sekelas argentina..vietnam bs...</td>\n",
       "      <td>garudaq sekarang sekelas argentina vietnam bis...</td>\n",
       "      <td>['garudaq', 'sekarang', 'sekelas', 'argentina'...</td>\n",
       "      <td>['garudaq', 'sekelas', 'argentina', 'vietnam',...</td>\n",
       "      <td>['garudaq', 'kelas', 'argentina', 'vietnam', '...</td>\n",
       "      <td>garudaq kelas argentina vietnam kalahkn timnas...</td>\n",
       "      <td>negative</td>\n",
       "    </tr>\n",
       "    <tr>\n",
       "      <th>2</th>\n",
       "      <td>Padahal mau lihat mancini di gbk tapi eh di pe...</td>\n",
       "      <td>padahal mau lihat mancini di gbk tapi eh di pe...</td>\n",
       "      <td>['padahal', 'mau', 'lihat', 'mancini', 'di', '...</td>\n",
       "      <td>['lihat', 'mancini', 'gbk', 'eh', 'pecat']</td>\n",
       "      <td>['lihat', 'mancini', 'gbk', 'eh', 'pecat']</td>\n",
       "      <td>lihat mancini gbk eh pecat</td>\n",
       "      <td>negative</td>\n",
       "    </tr>\n",
       "    <tr>\n",
       "      <th>3</th>\n",
       "      <td>Pffsoz</td>\n",
       "      <td>pffsoz</td>\n",
       "      <td>['pffsoz']</td>\n",
       "      <td>['pffsoz']</td>\n",
       "      <td>['pffsoz']</td>\n",
       "      <td>pffsoz</td>\n",
       "      <td>positive</td>\n",
       "    </tr>\n",
       "    <tr>\n",
       "      <th>4</th>\n",
       "      <td>shin busukk indo laos 33 busuuuukkk</td>\n",
       "      <td>shin busukk indo laos busuukk</td>\n",
       "      <td>['shin', 'busukk', 'indo', 'laos', 'busuukk']</td>\n",
       "      <td>['shin', 'busukk', 'indo', 'laos', 'busuukk']</td>\n",
       "      <td>['shin', 'busukk', 'indo', 'laos', 'busuukk']</td>\n",
       "      <td>shin busukk indo laos busuukk</td>\n",
       "      <td>negative</td>\n",
       "    </tr>\n",
       "  </tbody>\n",
       "</table>\n",
       "</div>"
      ],
      "text/plain": [
       "                                             comment  \\\n",
       "0  1 POIN PERDANA!!!! Berapa Nilai Untuk Pertandi...   \n",
       "1  GarudaQ sekarang sekelas argentina..vietnam bs...   \n",
       "2  Padahal mau lihat mancini di gbk tapi eh di pe...   \n",
       "3                                             Pffsoz   \n",
       "4                shin busukk indo laos 33 busuuuukkk   \n",
       "\n",
       "                                     cleaned_comment  \\\n",
       "0  poin perdana berapa nilai untuk pertandingan t...   \n",
       "1  garudaq sekarang sekelas argentina vietnam bis...   \n",
       "2  padahal mau lihat mancini di gbk tapi eh di pe...   \n",
       "3                                             pffsoz   \n",
       "4                      shin busukk indo laos busuukk   \n",
       "\n",
       "                                   tokenized_comment  \\\n",
       "0  ['poin', 'perdana', 'berapa', 'nilai', 'untuk'...   \n",
       "1  ['garudaq', 'sekarang', 'sekelas', 'argentina'...   \n",
       "2  ['padahal', 'mau', 'lihat', 'mancini', 'di', '...   \n",
       "3                                         ['pffsoz']   \n",
       "4      ['shin', 'busukk', 'indo', 'laos', 'busuukk']   \n",
       "\n",
       "                                   stopwords_comment  \\\n",
       "0  ['poin', 'perdana', 'nilai', 'pertandingan', '...   \n",
       "1  ['garudaq', 'sekelas', 'argentina', 'vietnam',...   \n",
       "2         ['lihat', 'mancini', 'gbk', 'eh', 'pecat']   \n",
       "3                                         ['pffsoz']   \n",
       "4      ['shin', 'busukk', 'indo', 'laos', 'busuukk']   \n",
       "\n",
       "                                     stemmed_comment  \\\n",
       "0  ['poin', 'perdana', 'nilai', 'tanding', 'timna...   \n",
       "1  ['garudaq', 'kelas', 'argentina', 'vietnam', '...   \n",
       "2         ['lihat', 'mancini', 'gbk', 'eh', 'pecat']   \n",
       "3                                         ['pffsoz']   \n",
       "4      ['shin', 'busukk', 'indo', 'laos', 'busuukk']   \n",
       "\n",
       "                                     cleaned_stemmed sentiment_prediction  \n",
       "0  poin perdana nilai tanding timnas senior hadap...             positive  \n",
       "1  garudaq kelas argentina vietnam kalahkn timnas...             negative  \n",
       "2                         lihat mancini gbk eh pecat             negative  \n",
       "3                                             pffsoz             positive  \n",
       "4                      shin busukk indo laos busuukk             negative  "
      ]
     },
     "execution_count": 5,
     "metadata": {},
     "output_type": "execute_result"
    }
   ],
   "source": [
    "youtube_dataset[\"sentiment_prediction\"] = [sentiment_analysis(comment) for comment in tqdm(youtube_dataset['cleaned_stemmed'])]\n",
    "\n",
    "youtube_dataset.head()"
   ]
  },
  {
   "cell_type": "markdown",
   "metadata": {},
   "source": [
    "## Save Classification CSV"
   ]
  },
  {
   "cell_type": "code",
   "execution_count": 6,
   "metadata": {},
   "outputs": [
    {
     "data": {
      "text/html": [
       "<div>\n",
       "<style scoped>\n",
       "    .dataframe tbody tr th:only-of-type {\n",
       "        vertical-align: middle;\n",
       "    }\n",
       "\n",
       "    .dataframe tbody tr th {\n",
       "        vertical-align: top;\n",
       "    }\n",
       "\n",
       "    .dataframe thead th {\n",
       "        text-align: right;\n",
       "    }\n",
       "</style>\n",
       "<table border=\"1\" class=\"dataframe\">\n",
       "  <thead>\n",
       "    <tr style=\"text-align: right;\">\n",
       "      <th></th>\n",
       "      <th>comment</th>\n",
       "      <th>cleaned_comment</th>\n",
       "      <th>tokenized_comment</th>\n",
       "      <th>stopwords_comment</th>\n",
       "      <th>stemmed_comment</th>\n",
       "      <th>cleaned_stemmed</th>\n",
       "      <th>sentiment_prediction</th>\n",
       "    </tr>\n",
       "  </thead>\n",
       "  <tbody>\n",
       "    <tr>\n",
       "      <th>0</th>\n",
       "      <td>1 POIN PERDANA!!!! Berapa Nilai Untuk Pertandi...</td>\n",
       "      <td>poin perdana berapa nilai untuk pertandingan t...</td>\n",
       "      <td>['poin', 'perdana', 'berapa', 'nilai', 'untuk'...</td>\n",
       "      <td>['poin', 'perdana', 'nilai', 'pertandingan', '...</td>\n",
       "      <td>['poin', 'perdana', 'nilai', 'tanding', 'timna...</td>\n",
       "      <td>poin perdana nilai tanding timnas senior hadap...</td>\n",
       "      <td>positive</td>\n",
       "    </tr>\n",
       "    <tr>\n",
       "      <th>1</th>\n",
       "      <td>GarudaQ sekarang sekelas argentina..vietnam bs...</td>\n",
       "      <td>garudaq sekarang sekelas argentina vietnam bis...</td>\n",
       "      <td>['garudaq', 'sekarang', 'sekelas', 'argentina'...</td>\n",
       "      <td>['garudaq', 'sekelas', 'argentina', 'vietnam',...</td>\n",
       "      <td>['garudaq', 'kelas', 'argentina', 'vietnam', '...</td>\n",
       "      <td>garudaq kelas argentina vietnam kalahkn timnas...</td>\n",
       "      <td>negative</td>\n",
       "    </tr>\n",
       "    <tr>\n",
       "      <th>2</th>\n",
       "      <td>Padahal mau lihat mancini di gbk tapi eh di pe...</td>\n",
       "      <td>padahal mau lihat mancini di gbk tapi eh di pe...</td>\n",
       "      <td>['padahal', 'mau', 'lihat', 'mancini', 'di', '...</td>\n",
       "      <td>['lihat', 'mancini', 'gbk', 'eh', 'pecat']</td>\n",
       "      <td>['lihat', 'mancini', 'gbk', 'eh', 'pecat']</td>\n",
       "      <td>lihat mancini gbk eh pecat</td>\n",
       "      <td>negative</td>\n",
       "    </tr>\n",
       "    <tr>\n",
       "      <th>3</th>\n",
       "      <td>Pffsoz</td>\n",
       "      <td>pffsoz</td>\n",
       "      <td>['pffsoz']</td>\n",
       "      <td>['pffsoz']</td>\n",
       "      <td>['pffsoz']</td>\n",
       "      <td>pffsoz</td>\n",
       "      <td>positive</td>\n",
       "    </tr>\n",
       "    <tr>\n",
       "      <th>4</th>\n",
       "      <td>shin busukk indo laos 33 busuuuukkk</td>\n",
       "      <td>shin busukk indo laos busuukk</td>\n",
       "      <td>['shin', 'busukk', 'indo', 'laos', 'busuukk']</td>\n",
       "      <td>['shin', 'busukk', 'indo', 'laos', 'busuukk']</td>\n",
       "      <td>['shin', 'busukk', 'indo', 'laos', 'busuukk']</td>\n",
       "      <td>shin busukk indo laos busuukk</td>\n",
       "      <td>negative</td>\n",
       "    </tr>\n",
       "  </tbody>\n",
       "</table>\n",
       "</div>"
      ],
      "text/plain": [
       "                                             comment  \\\n",
       "0  1 POIN PERDANA!!!! Berapa Nilai Untuk Pertandi...   \n",
       "1  GarudaQ sekarang sekelas argentina..vietnam bs...   \n",
       "2  Padahal mau lihat mancini di gbk tapi eh di pe...   \n",
       "3                                             Pffsoz   \n",
       "4                shin busukk indo laos 33 busuuuukkk   \n",
       "\n",
       "                                     cleaned_comment  \\\n",
       "0  poin perdana berapa nilai untuk pertandingan t...   \n",
       "1  garudaq sekarang sekelas argentina vietnam bis...   \n",
       "2  padahal mau lihat mancini di gbk tapi eh di pe...   \n",
       "3                                             pffsoz   \n",
       "4                      shin busukk indo laos busuukk   \n",
       "\n",
       "                                   tokenized_comment  \\\n",
       "0  ['poin', 'perdana', 'berapa', 'nilai', 'untuk'...   \n",
       "1  ['garudaq', 'sekarang', 'sekelas', 'argentina'...   \n",
       "2  ['padahal', 'mau', 'lihat', 'mancini', 'di', '...   \n",
       "3                                         ['pffsoz']   \n",
       "4      ['shin', 'busukk', 'indo', 'laos', 'busuukk']   \n",
       "\n",
       "                                   stopwords_comment  \\\n",
       "0  ['poin', 'perdana', 'nilai', 'pertandingan', '...   \n",
       "1  ['garudaq', 'sekelas', 'argentina', 'vietnam',...   \n",
       "2         ['lihat', 'mancini', 'gbk', 'eh', 'pecat']   \n",
       "3                                         ['pffsoz']   \n",
       "4      ['shin', 'busukk', 'indo', 'laos', 'busuukk']   \n",
       "\n",
       "                                     stemmed_comment  \\\n",
       "0  ['poin', 'perdana', 'nilai', 'tanding', 'timna...   \n",
       "1  ['garudaq', 'kelas', 'argentina', 'vietnam', '...   \n",
       "2         ['lihat', 'mancini', 'gbk', 'eh', 'pecat']   \n",
       "3                                         ['pffsoz']   \n",
       "4      ['shin', 'busukk', 'indo', 'laos', 'busuukk']   \n",
       "\n",
       "                                     cleaned_stemmed sentiment_prediction  \n",
       "0  poin perdana nilai tanding timnas senior hadap...             positive  \n",
       "1  garudaq kelas argentina vietnam kalahkn timnas...             negative  \n",
       "2                         lihat mancini gbk eh pecat             negative  \n",
       "3                                             pffsoz             positive  \n",
       "4                      shin busukk indo laos busuukk             negative  "
      ]
     },
     "execution_count": 6,
     "metadata": {},
     "output_type": "execute_result"
    }
   ],
   "source": [
    "youtube_dataset.to_csv(\"../data/youtube-comment-cleaned-sentiment.csv\", index=False)\n",
    "youtube_dataset.head()"
   ]
  },
  {
   "cell_type": "markdown",
   "metadata": {},
   "source": [
    "### Balance Sentiment Data"
   ]
  },
  {
   "cell_type": "code",
   "execution_count": 7,
   "metadata": {},
   "outputs": [
    {
     "name": "stdout",
     "output_type": "stream",
     "text": [
      "sentiment_prediction\n",
      "negative    145\n",
      "neutral     145\n",
      "positive    145\n",
      "Name: count, dtype: int64\n"
     ]
    },
    {
     "name": "stderr",
     "output_type": "stream",
     "text": [
      "C:\\Users\\H P\\AppData\\Local\\Temp\\ipykernel_2440\\3393737824.py:3: DeprecationWarning: DataFrameGroupBy.apply operated on the grouping columns. This behavior is deprecated, and in a future version of pandas the grouping columns will be excluded from the operation. Either pass `include_groups=False` to exclude the groupings or explicitly select the grouping columns after groupby to silence this warning.\n",
      "  dataset_balanced = youtube_dataset.groupby('sentiment_prediction').apply(lambda x: x.sample(min_count)).reset_index(drop=True)\n"
     ]
    }
   ],
   "source": [
    "check_sentiment = youtube_dataset[\"sentiment_prediction\"].value_counts()\n",
    "min_count = check_sentiment.min()\n",
    "dataset_balanced = youtube_dataset.groupby('sentiment_prediction').apply(lambda x: x.sample(min_count)).reset_index(drop=True)\n",
    "print(dataset_balanced[\"sentiment_prediction\"].value_counts())"
   ]
  },
  {
   "cell_type": "code",
   "execution_count": 8,
   "metadata": {},
   "outputs": [],
   "source": [
    "dataset_balanced.to_csv(\"../data/youtube-comment-cleaned-sentiment-balanced.csv\", index=False)"
   ]
  },
  {
   "cell_type": "markdown",
   "metadata": {},
   "source": [
    "### Reformating Column"
   ]
  },
  {
   "cell_type": "code",
   "execution_count": 9,
   "metadata": {},
   "outputs": [
    {
     "data": {
      "text/html": [
       "<div>\n",
       "<style scoped>\n",
       "    .dataframe tbody tr th:only-of-type {\n",
       "        vertical-align: middle;\n",
       "    }\n",
       "\n",
       "    .dataframe tbody tr th {\n",
       "        vertical-align: top;\n",
       "    }\n",
       "\n",
       "    .dataframe thead th {\n",
       "        text-align: right;\n",
       "    }\n",
       "</style>\n",
       "<table border=\"1\" class=\"dataframe\">\n",
       "  <thead>\n",
       "    <tr style=\"text-align: right;\">\n",
       "      <th></th>\n",
       "      <th>cleaned_stemmed</th>\n",
       "      <th>sentiment_prediction</th>\n",
       "    </tr>\n",
       "  </thead>\n",
       "  <tbody>\n",
       "    <tr>\n",
       "      <th>0</th>\n",
       "      <td>poin perdana nilai tanding timnas senior hadap...</td>\n",
       "      <td>positive</td>\n",
       "    </tr>\n",
       "    <tr>\n",
       "      <th>1</th>\n",
       "      <td>garudaq kelas argentina vietnam kalahkn timnas...</td>\n",
       "      <td>negative</td>\n",
       "    </tr>\n",
       "    <tr>\n",
       "      <th>2</th>\n",
       "      <td>lihat mancini gbk eh pecat</td>\n",
       "      <td>negative</td>\n",
       "    </tr>\n",
       "    <tr>\n",
       "      <th>3</th>\n",
       "      <td>pffsoz</td>\n",
       "      <td>positive</td>\n",
       "    </tr>\n",
       "    <tr>\n",
       "      <th>4</th>\n",
       "      <td>shin busukk indo laos busuukk</td>\n",
       "      <td>negative</td>\n",
       "    </tr>\n",
       "  </tbody>\n",
       "</table>\n",
       "</div>"
      ],
      "text/plain": [
       "                                     cleaned_stemmed sentiment_prediction\n",
       "0  poin perdana nilai tanding timnas senior hadap...             positive\n",
       "1  garudaq kelas argentina vietnam kalahkn timnas...             negative\n",
       "2                         lihat mancini gbk eh pecat             negative\n",
       "3                                             pffsoz             positive\n",
       "4                      shin busukk indo laos busuukk             negative"
      ]
     },
     "execution_count": 9,
     "metadata": {},
     "output_type": "execute_result"
    }
   ],
   "source": [
    "youtube_dataset_clean = youtube_dataset[[\"cleaned_stemmed\", \"sentiment_prediction\"]]\n",
    "youtube_dataset_clean.head()"
   ]
  },
  {
   "cell_type": "code",
   "execution_count": 10,
   "metadata": {},
   "outputs": [],
   "source": [
    "youtube_dataset_clean.to_csv(\"../data/youtube-comment-cleaned-sentiment-reformat.csv\", index=False)"
   ]
  },
  {
   "cell_type": "markdown",
   "metadata": {},
   "source": [
    "### Balance Data After Reformat"
   ]
  },
  {
   "cell_type": "code",
   "execution_count": 11,
   "metadata": {},
   "outputs": [
    {
     "name": "stdout",
     "output_type": "stream",
     "text": [
      "sentiment_prediction\n",
      "negative    145\n",
      "neutral     145\n",
      "positive    145\n",
      "Name: count, dtype: int64\n"
     ]
    },
    {
     "name": "stderr",
     "output_type": "stream",
     "text": [
      "C:\\Users\\H P\\AppData\\Local\\Temp\\ipykernel_2440\\2143345064.py:3: DeprecationWarning: DataFrameGroupBy.apply operated on the grouping columns. This behavior is deprecated, and in a future version of pandas the grouping columns will be excluded from the operation. Either pass `include_groups=False` to exclude the groupings or explicitly select the grouping columns after groupby to silence this warning.\n",
      "  dataset_balanced = youtube_dataset_clean.groupby('sentiment_prediction').apply(lambda x: x.sample(min_count)).reset_index(drop=True)\n"
     ]
    }
   ],
   "source": [
    "check_sentiment = youtube_dataset_clean[\"sentiment_prediction\"].value_counts()\n",
    "min_count = check_sentiment.min()\n",
    "dataset_balanced = youtube_dataset_clean.groupby('sentiment_prediction').apply(lambda x: x.sample(min_count)).reset_index(drop=True)\n",
    "print(dataset_balanced[\"sentiment_prediction\"].value_counts())"
   ]
  },
  {
   "cell_type": "code",
   "execution_count": 12,
   "metadata": {},
   "outputs": [],
   "source": [
    "dataset_balanced.to_csv(\"../data/youtube-comment-cleaned-sentiment-reformat-balanced.csv\", index=False)"
   ]
  }
 ],
 "metadata": {
  "kernelspec": {
   "display_name": ".venv",
   "language": "python",
   "name": "python3"
  },
  "language_info": {
   "codemirror_mode": {
    "name": "ipython",
    "version": 3
   },
   "file_extension": ".py",
   "mimetype": "text/x-python",
   "name": "python",
   "nbconvert_exporter": "python",
   "pygments_lexer": "ipython3",
   "version": "3.12.6"
  }
 },
 "nbformat": 4,
 "nbformat_minor": 2
}
