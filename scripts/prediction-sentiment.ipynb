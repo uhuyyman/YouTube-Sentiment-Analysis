{
 "cells": [
  {
   "cell_type": "markdown",
   "metadata": {},
   "source": [
    "# Data Labeling Classification"
   ]
  },
  {
   "cell_type": "markdown",
   "metadata": {},
   "source": [
    "## Import Library"
   ]
  },
  {
   "cell_type": "code",
   "execution_count": 5,
   "metadata": {},
   "outputs": [],
   "source": [
    "from tqdm import tqdm\n",
    "import pandas as pd\n",
    "import transformers\n",
    "from transformers import pipeline\n",
    "import matplotlib.pyplot as plt\n",
    "import ast"
   ]
  },
  {
   "cell_type": "markdown",
   "metadata": {},
   "source": [
    "## Data"
   ]
  },
  {
   "cell_type": "markdown",
   "metadata": {},
   "source": [
    "### Load CSV"
   ]
  },
  {
   "cell_type": "code",
   "execution_count": 6,
   "metadata": {},
   "outputs": [
    {
     "data": {
      "text/html": [
       "<div>\n",
       "<style scoped>\n",
       "    .dataframe tbody tr th:only-of-type {\n",
       "        vertical-align: middle;\n",
       "    }\n",
       "\n",
       "    .dataframe tbody tr th {\n",
       "        vertical-align: top;\n",
       "    }\n",
       "\n",
       "    .dataframe thead th {\n",
       "        text-align: right;\n",
       "    }\n",
       "</style>\n",
       "<table border=\"1\" class=\"dataframe\">\n",
       "  <thead>\n",
       "    <tr style=\"text-align: right;\">\n",
       "      <th></th>\n",
       "      <th>comment</th>\n",
       "      <th>cleaned_comment</th>\n",
       "      <th>tokenized_comment</th>\n",
       "      <th>stopwords_comment</th>\n",
       "      <th>stemmed_comment</th>\n",
       "      <th>cleaned_stemmed</th>\n",
       "    </tr>\n",
       "  </thead>\n",
       "  <tbody>\n",
       "    <tr>\n",
       "      <th>0</th>\n",
       "      <td>Tukang korup akhirnya kepancing wkwkw kasian k...</td>\n",
       "      <td>tukang korup akhirnya kepancing wkwkw kasian k...</td>\n",
       "      <td>['tukang', 'korup', 'akhirnya', 'kepancing', '...</td>\n",
       "      <td>['tukang', 'korup', 'kepancing', 'kasian', 'ke...</td>\n",
       "      <td>['tukang', 'korup', 'pancing', 'kasi', 'keluar...</td>\n",
       "      <td>tukang korup pancing kasi keluarga anak</td>\n",
       "    </tr>\n",
       "    <tr>\n",
       "      <th>1</th>\n",
       "      <td>Bodohnya ini semua yg hadir tepuk tangan untuk...</td>\n",
       "      <td>bodohnya ini semua yang hadir tepuk tangan unt...</td>\n",
       "      <td>['bodohnya', 'ini', 'semua', 'yang', 'hadir', ...</td>\n",
       "      <td>['bodohnya', 'hadir', 'tepuk', 'tangan', 'rocky']</td>\n",
       "      <td>['bodoh', 'hadir', 'tepuk', 'tangan', 'rocky']</td>\n",
       "      <td>bodoh hadir tepuk tangan rocky</td>\n",
       "    </tr>\n",
       "    <tr>\n",
       "      <th>2</th>\n",
       "      <td>Roki ini gaklama lagi\\nJadi penhianat</td>\n",
       "      <td>rocky ini tidak lama lagi jadi penhianat</td>\n",
       "      <td>['rocky', 'ini', 'tidak', 'lama', 'lagi', 'jad...</td>\n",
       "      <td>['rocky', 'penhianat']</td>\n",
       "      <td>['rocky', 'penhianat']</td>\n",
       "      <td>rocky penhianat</td>\n",
       "    </tr>\n",
       "    <tr>\n",
       "      <th>3</th>\n",
       "      <td>Matador vs banteng dan bantengya silvester 😂</td>\n",
       "      <td>matador versus banteng dan bantengya silfester</td>\n",
       "      <td>['matador', 'versus', 'banteng', 'dan', 'bante...</td>\n",
       "      <td>['matador', 'versus', 'banteng', 'bantengya', ...</td>\n",
       "      <td>['matador', 'versus', 'banteng', 'bantengya', ...</td>\n",
       "      <td>matador versus banteng bantengya silfester</td>\n",
       "    </tr>\n",
       "    <tr>\n",
       "      <th>4</th>\n",
       "      <td>Selverter itu jelas kurang wawasan dan ilmu di...</td>\n",
       "      <td>selverter itu jelas kurang wawasan dan ilmu di...</td>\n",
       "      <td>['selverter', 'itu', 'jelas', 'kurang', 'wawas...</td>\n",
       "      <td>['selverter', 'wawasan', 'ilmu', 'rokcy']</td>\n",
       "      <td>['selverter', 'wawas', 'ilmu', 'rokcy']</td>\n",
       "      <td>selverter wawas ilmu rokcy</td>\n",
       "    </tr>\n",
       "  </tbody>\n",
       "</table>\n",
       "</div>"
      ],
      "text/plain": [
       "                                             comment  \\\n",
       "0  Tukang korup akhirnya kepancing wkwkw kasian k...   \n",
       "1  Bodohnya ini semua yg hadir tepuk tangan untuk...   \n",
       "2              Roki ini gaklama lagi\\nJadi penhianat   \n",
       "3       Matador vs banteng dan bantengya silvester 😂   \n",
       "4  Selverter itu jelas kurang wawasan dan ilmu di...   \n",
       "\n",
       "                                     cleaned_comment  \\\n",
       "0  tukang korup akhirnya kepancing wkwkw kasian k...   \n",
       "1  bodohnya ini semua yang hadir tepuk tangan unt...   \n",
       "2           rocky ini tidak lama lagi jadi penhianat   \n",
       "3     matador versus banteng dan bantengya silfester   \n",
       "4  selverter itu jelas kurang wawasan dan ilmu di...   \n",
       "\n",
       "                                   tokenized_comment  \\\n",
       "0  ['tukang', 'korup', 'akhirnya', 'kepancing', '...   \n",
       "1  ['bodohnya', 'ini', 'semua', 'yang', 'hadir', ...   \n",
       "2  ['rocky', 'ini', 'tidak', 'lama', 'lagi', 'jad...   \n",
       "3  ['matador', 'versus', 'banteng', 'dan', 'bante...   \n",
       "4  ['selverter', 'itu', 'jelas', 'kurang', 'wawas...   \n",
       "\n",
       "                                   stopwords_comment  \\\n",
       "0  ['tukang', 'korup', 'kepancing', 'kasian', 'ke...   \n",
       "1  ['bodohnya', 'hadir', 'tepuk', 'tangan', 'rocky']   \n",
       "2                             ['rocky', 'penhianat']   \n",
       "3  ['matador', 'versus', 'banteng', 'bantengya', ...   \n",
       "4          ['selverter', 'wawasan', 'ilmu', 'rokcy']   \n",
       "\n",
       "                                     stemmed_comment  \\\n",
       "0  ['tukang', 'korup', 'pancing', 'kasi', 'keluar...   \n",
       "1     ['bodoh', 'hadir', 'tepuk', 'tangan', 'rocky']   \n",
       "2                             ['rocky', 'penhianat']   \n",
       "3  ['matador', 'versus', 'banteng', 'bantengya', ...   \n",
       "4            ['selverter', 'wawas', 'ilmu', 'rokcy']   \n",
       "\n",
       "                              cleaned_stemmed  \n",
       "0     tukang korup pancing kasi keluarga anak  \n",
       "1              bodoh hadir tepuk tangan rocky  \n",
       "2                             rocky penhianat  \n",
       "3  matador versus banteng bantengya silfester  \n",
       "4                  selverter wawas ilmu rokcy  "
      ]
     },
     "execution_count": 6,
     "metadata": {},
     "output_type": "execute_result"
    }
   ],
   "source": [
    "youtube_dataset = pd.read_csv(\"../data/youtube-comment-cleaned.csv\")\n",
    "youtube_dataset.head()"
   ]
  },
  {
   "cell_type": "markdown",
   "metadata": {},
   "source": [
    "### Cleaning Confirmation"
   ]
  },
  {
   "cell_type": "code",
   "execution_count": 7,
   "metadata": {},
   "outputs": [
    {
     "data": {
      "text/plain": [
       "comment              0\n",
       "cleaned_comment      0\n",
       "tokenized_comment    0\n",
       "stopwords_comment    0\n",
       "stemmed_comment      0\n",
       "cleaned_stemmed      0\n",
       "dtype: int64"
      ]
     },
     "execution_count": 7,
     "metadata": {},
     "output_type": "execute_result"
    }
   ],
   "source": [
    "youtube_dataset = youtube_dataset.dropna()\n",
    "youtube_dataset.isnull().sum()"
   ]
  },
  {
   "cell_type": "markdown",
   "metadata": {},
   "source": [
    "## Classification Using Bigger Model"
   ]
  },
  {
   "cell_type": "markdown",
   "metadata": {},
   "source": [
    "### Define Variable and Function"
   ]
  },
  {
   "cell_type": "code",
   "execution_count": 8,
   "metadata": {},
   "outputs": [
    {
     "name": "stderr",
     "output_type": "stream",
     "text": [
      "d:\\Kuliah\\Software\\Visual Studio Code\\Python\\Semester_5\\Praktik_Aplikasi_Web\\Praktikum_08\\youtube-sentiment\\.venv\\Lib\\site-packages\\transformers\\pipelines\\text_classification.py:104: UserWarning: `return_all_scores` is now deprecated,  if want a similar functionality use `top_k=None` instead of `return_all_scores=True` or `top_k=1` instead of `return_all_scores=False`.\n",
      "  warnings.warn(\n"
     ]
    }
   ],
   "source": [
    "distilled_student_sentiment_classifier = pipeline(\n",
    "    model=\"lxyuan/distilbert-base-multilingual-cased-sentiments-student\",\n",
    "    return_all_scores=True,\n",
    "    truncation=True\n",
    ")\n",
    "\n",
    "def sentiment_analysis(text):\n",
    "    result = distilled_student_sentiment_classifier(text)\n",
    "    highest_score_label = max(result[0], key=lambda x: x['score'])['label']\n",
    "    return highest_score_label"
   ]
  },
  {
   "cell_type": "markdown",
   "metadata": {},
   "source": [
    "### Apply Function"
   ]
  },
  {
   "cell_type": "code",
   "execution_count": 9,
   "metadata": {},
   "outputs": [
    {
     "name": "stderr",
     "output_type": "stream",
     "text": [
      "100%|██████████| 20403/20403 [07:16<00:00, 46.72it/s]\n"
     ]
    },
    {
     "data": {
      "text/html": [
       "<div>\n",
       "<style scoped>\n",
       "    .dataframe tbody tr th:only-of-type {\n",
       "        vertical-align: middle;\n",
       "    }\n",
       "\n",
       "    .dataframe tbody tr th {\n",
       "        vertical-align: top;\n",
       "    }\n",
       "\n",
       "    .dataframe thead th {\n",
       "        text-align: right;\n",
       "    }\n",
       "</style>\n",
       "<table border=\"1\" class=\"dataframe\">\n",
       "  <thead>\n",
       "    <tr style=\"text-align: right;\">\n",
       "      <th></th>\n",
       "      <th>comment</th>\n",
       "      <th>cleaned_comment</th>\n",
       "      <th>tokenized_comment</th>\n",
       "      <th>stopwords_comment</th>\n",
       "      <th>stemmed_comment</th>\n",
       "      <th>cleaned_stemmed</th>\n",
       "      <th>sentiment_prediction</th>\n",
       "    </tr>\n",
       "  </thead>\n",
       "  <tbody>\n",
       "    <tr>\n",
       "      <th>0</th>\n",
       "      <td>Tukang korup akhirnya kepancing wkwkw kasian k...</td>\n",
       "      <td>tukang korup akhirnya kepancing wkwkw kasian k...</td>\n",
       "      <td>['tukang', 'korup', 'akhirnya', 'kepancing', '...</td>\n",
       "      <td>['tukang', 'korup', 'kepancing', 'kasian', 'ke...</td>\n",
       "      <td>['tukang', 'korup', 'pancing', 'kasi', 'keluar...</td>\n",
       "      <td>tukang korup pancing kasi keluarga anak</td>\n",
       "      <td>negative</td>\n",
       "    </tr>\n",
       "    <tr>\n",
       "      <th>1</th>\n",
       "      <td>Bodohnya ini semua yg hadir tepuk tangan untuk...</td>\n",
       "      <td>bodohnya ini semua yang hadir tepuk tangan unt...</td>\n",
       "      <td>['bodohnya', 'ini', 'semua', 'yang', 'hadir', ...</td>\n",
       "      <td>['bodohnya', 'hadir', 'tepuk', 'tangan', 'rocky']</td>\n",
       "      <td>['bodoh', 'hadir', 'tepuk', 'tangan', 'rocky']</td>\n",
       "      <td>bodoh hadir tepuk tangan rocky</td>\n",
       "      <td>negative</td>\n",
       "    </tr>\n",
       "    <tr>\n",
       "      <th>2</th>\n",
       "      <td>Roki ini gaklama lagi\\nJadi penhianat</td>\n",
       "      <td>rocky ini tidak lama lagi jadi penhianat</td>\n",
       "      <td>['rocky', 'ini', 'tidak', 'lama', 'lagi', 'jad...</td>\n",
       "      <td>['rocky', 'penhianat']</td>\n",
       "      <td>['rocky', 'penhianat']</td>\n",
       "      <td>rocky penhianat</td>\n",
       "      <td>positive</td>\n",
       "    </tr>\n",
       "    <tr>\n",
       "      <th>3</th>\n",
       "      <td>Matador vs banteng dan bantengya silvester 😂</td>\n",
       "      <td>matador versus banteng dan bantengya silfester</td>\n",
       "      <td>['matador', 'versus', 'banteng', 'dan', 'bante...</td>\n",
       "      <td>['matador', 'versus', 'banteng', 'bantengya', ...</td>\n",
       "      <td>['matador', 'versus', 'banteng', 'bantengya', ...</td>\n",
       "      <td>matador versus banteng bantengya silfester</td>\n",
       "      <td>negative</td>\n",
       "    </tr>\n",
       "    <tr>\n",
       "      <th>4</th>\n",
       "      <td>Selverter itu jelas kurang wawasan dan ilmu di...</td>\n",
       "      <td>selverter itu jelas kurang wawasan dan ilmu di...</td>\n",
       "      <td>['selverter', 'itu', 'jelas', 'kurang', 'wawas...</td>\n",
       "      <td>['selverter', 'wawasan', 'ilmu', 'rokcy']</td>\n",
       "      <td>['selverter', 'wawas', 'ilmu', 'rokcy']</td>\n",
       "      <td>selverter wawas ilmu rokcy</td>\n",
       "      <td>negative</td>\n",
       "    </tr>\n",
       "  </tbody>\n",
       "</table>\n",
       "</div>"
      ],
      "text/plain": [
       "                                             comment  \\\n",
       "0  Tukang korup akhirnya kepancing wkwkw kasian k...   \n",
       "1  Bodohnya ini semua yg hadir tepuk tangan untuk...   \n",
       "2              Roki ini gaklama lagi\\nJadi penhianat   \n",
       "3       Matador vs banteng dan bantengya silvester 😂   \n",
       "4  Selverter itu jelas kurang wawasan dan ilmu di...   \n",
       "\n",
       "                                     cleaned_comment  \\\n",
       "0  tukang korup akhirnya kepancing wkwkw kasian k...   \n",
       "1  bodohnya ini semua yang hadir tepuk tangan unt...   \n",
       "2           rocky ini tidak lama lagi jadi penhianat   \n",
       "3     matador versus banteng dan bantengya silfester   \n",
       "4  selverter itu jelas kurang wawasan dan ilmu di...   \n",
       "\n",
       "                                   tokenized_comment  \\\n",
       "0  ['tukang', 'korup', 'akhirnya', 'kepancing', '...   \n",
       "1  ['bodohnya', 'ini', 'semua', 'yang', 'hadir', ...   \n",
       "2  ['rocky', 'ini', 'tidak', 'lama', 'lagi', 'jad...   \n",
       "3  ['matador', 'versus', 'banteng', 'dan', 'bante...   \n",
       "4  ['selverter', 'itu', 'jelas', 'kurang', 'wawas...   \n",
       "\n",
       "                                   stopwords_comment  \\\n",
       "0  ['tukang', 'korup', 'kepancing', 'kasian', 'ke...   \n",
       "1  ['bodohnya', 'hadir', 'tepuk', 'tangan', 'rocky']   \n",
       "2                             ['rocky', 'penhianat']   \n",
       "3  ['matador', 'versus', 'banteng', 'bantengya', ...   \n",
       "4          ['selverter', 'wawasan', 'ilmu', 'rokcy']   \n",
       "\n",
       "                                     stemmed_comment  \\\n",
       "0  ['tukang', 'korup', 'pancing', 'kasi', 'keluar...   \n",
       "1     ['bodoh', 'hadir', 'tepuk', 'tangan', 'rocky']   \n",
       "2                             ['rocky', 'penhianat']   \n",
       "3  ['matador', 'versus', 'banteng', 'bantengya', ...   \n",
       "4            ['selverter', 'wawas', 'ilmu', 'rokcy']   \n",
       "\n",
       "                              cleaned_stemmed sentiment_prediction  \n",
       "0     tukang korup pancing kasi keluarga anak             negative  \n",
       "1              bodoh hadir tepuk tangan rocky             negative  \n",
       "2                             rocky penhianat             positive  \n",
       "3  matador versus banteng bantengya silfester             negative  \n",
       "4                  selverter wawas ilmu rokcy             negative  "
      ]
     },
     "execution_count": 9,
     "metadata": {},
     "output_type": "execute_result"
    }
   ],
   "source": [
    "youtube_dataset[\"sentiment_prediction\"] = [sentiment_analysis(comment) for comment in tqdm(youtube_dataset['cleaned_stemmed'])]\n",
    "\n",
    "youtube_dataset.head()"
   ]
  },
  {
   "cell_type": "markdown",
   "metadata": {},
   "source": [
    "## Save Classification CSV"
   ]
  },
  {
   "cell_type": "code",
   "execution_count": 10,
   "metadata": {},
   "outputs": [
    {
     "data": {
      "text/html": [
       "<div>\n",
       "<style scoped>\n",
       "    .dataframe tbody tr th:only-of-type {\n",
       "        vertical-align: middle;\n",
       "    }\n",
       "\n",
       "    .dataframe tbody tr th {\n",
       "        vertical-align: top;\n",
       "    }\n",
       "\n",
       "    .dataframe thead th {\n",
       "        text-align: right;\n",
       "    }\n",
       "</style>\n",
       "<table border=\"1\" class=\"dataframe\">\n",
       "  <thead>\n",
       "    <tr style=\"text-align: right;\">\n",
       "      <th></th>\n",
       "      <th>comment</th>\n",
       "      <th>cleaned_comment</th>\n",
       "      <th>tokenized_comment</th>\n",
       "      <th>stopwords_comment</th>\n",
       "      <th>stemmed_comment</th>\n",
       "      <th>cleaned_stemmed</th>\n",
       "      <th>sentiment_prediction</th>\n",
       "    </tr>\n",
       "  </thead>\n",
       "  <tbody>\n",
       "    <tr>\n",
       "      <th>0</th>\n",
       "      <td>Tukang korup akhirnya kepancing wkwkw kasian k...</td>\n",
       "      <td>tukang korup akhirnya kepancing wkwkw kasian k...</td>\n",
       "      <td>['tukang', 'korup', 'akhirnya', 'kepancing', '...</td>\n",
       "      <td>['tukang', 'korup', 'kepancing', 'kasian', 'ke...</td>\n",
       "      <td>['tukang', 'korup', 'pancing', 'kasi', 'keluar...</td>\n",
       "      <td>tukang korup pancing kasi keluarga anak</td>\n",
       "      <td>negative</td>\n",
       "    </tr>\n",
       "    <tr>\n",
       "      <th>1</th>\n",
       "      <td>Bodohnya ini semua yg hadir tepuk tangan untuk...</td>\n",
       "      <td>bodohnya ini semua yang hadir tepuk tangan unt...</td>\n",
       "      <td>['bodohnya', 'ini', 'semua', 'yang', 'hadir', ...</td>\n",
       "      <td>['bodohnya', 'hadir', 'tepuk', 'tangan', 'rocky']</td>\n",
       "      <td>['bodoh', 'hadir', 'tepuk', 'tangan', 'rocky']</td>\n",
       "      <td>bodoh hadir tepuk tangan rocky</td>\n",
       "      <td>negative</td>\n",
       "    </tr>\n",
       "    <tr>\n",
       "      <th>2</th>\n",
       "      <td>Roki ini gaklama lagi\\nJadi penhianat</td>\n",
       "      <td>rocky ini tidak lama lagi jadi penhianat</td>\n",
       "      <td>['rocky', 'ini', 'tidak', 'lama', 'lagi', 'jad...</td>\n",
       "      <td>['rocky', 'penhianat']</td>\n",
       "      <td>['rocky', 'penhianat']</td>\n",
       "      <td>rocky penhianat</td>\n",
       "      <td>positive</td>\n",
       "    </tr>\n",
       "    <tr>\n",
       "      <th>3</th>\n",
       "      <td>Matador vs banteng dan bantengya silvester 😂</td>\n",
       "      <td>matador versus banteng dan bantengya silfester</td>\n",
       "      <td>['matador', 'versus', 'banteng', 'dan', 'bante...</td>\n",
       "      <td>['matador', 'versus', 'banteng', 'bantengya', ...</td>\n",
       "      <td>['matador', 'versus', 'banteng', 'bantengya', ...</td>\n",
       "      <td>matador versus banteng bantengya silfester</td>\n",
       "      <td>negative</td>\n",
       "    </tr>\n",
       "    <tr>\n",
       "      <th>4</th>\n",
       "      <td>Selverter itu jelas kurang wawasan dan ilmu di...</td>\n",
       "      <td>selverter itu jelas kurang wawasan dan ilmu di...</td>\n",
       "      <td>['selverter', 'itu', 'jelas', 'kurang', 'wawas...</td>\n",
       "      <td>['selverter', 'wawasan', 'ilmu', 'rokcy']</td>\n",
       "      <td>['selverter', 'wawas', 'ilmu', 'rokcy']</td>\n",
       "      <td>selverter wawas ilmu rokcy</td>\n",
       "      <td>negative</td>\n",
       "    </tr>\n",
       "  </tbody>\n",
       "</table>\n",
       "</div>"
      ],
      "text/plain": [
       "                                             comment  \\\n",
       "0  Tukang korup akhirnya kepancing wkwkw kasian k...   \n",
       "1  Bodohnya ini semua yg hadir tepuk tangan untuk...   \n",
       "2              Roki ini gaklama lagi\\nJadi penhianat   \n",
       "3       Matador vs banteng dan bantengya silvester 😂   \n",
       "4  Selverter itu jelas kurang wawasan dan ilmu di...   \n",
       "\n",
       "                                     cleaned_comment  \\\n",
       "0  tukang korup akhirnya kepancing wkwkw kasian k...   \n",
       "1  bodohnya ini semua yang hadir tepuk tangan unt...   \n",
       "2           rocky ini tidak lama lagi jadi penhianat   \n",
       "3     matador versus banteng dan bantengya silfester   \n",
       "4  selverter itu jelas kurang wawasan dan ilmu di...   \n",
       "\n",
       "                                   tokenized_comment  \\\n",
       "0  ['tukang', 'korup', 'akhirnya', 'kepancing', '...   \n",
       "1  ['bodohnya', 'ini', 'semua', 'yang', 'hadir', ...   \n",
       "2  ['rocky', 'ini', 'tidak', 'lama', 'lagi', 'jad...   \n",
       "3  ['matador', 'versus', 'banteng', 'dan', 'bante...   \n",
       "4  ['selverter', 'itu', 'jelas', 'kurang', 'wawas...   \n",
       "\n",
       "                                   stopwords_comment  \\\n",
       "0  ['tukang', 'korup', 'kepancing', 'kasian', 'ke...   \n",
       "1  ['bodohnya', 'hadir', 'tepuk', 'tangan', 'rocky']   \n",
       "2                             ['rocky', 'penhianat']   \n",
       "3  ['matador', 'versus', 'banteng', 'bantengya', ...   \n",
       "4          ['selverter', 'wawasan', 'ilmu', 'rokcy']   \n",
       "\n",
       "                                     stemmed_comment  \\\n",
       "0  ['tukang', 'korup', 'pancing', 'kasi', 'keluar...   \n",
       "1     ['bodoh', 'hadir', 'tepuk', 'tangan', 'rocky']   \n",
       "2                             ['rocky', 'penhianat']   \n",
       "3  ['matador', 'versus', 'banteng', 'bantengya', ...   \n",
       "4            ['selverter', 'wawas', 'ilmu', 'rokcy']   \n",
       "\n",
       "                              cleaned_stemmed sentiment_prediction  \n",
       "0     tukang korup pancing kasi keluarga anak             negative  \n",
       "1              bodoh hadir tepuk tangan rocky             negative  \n",
       "2                             rocky penhianat             positive  \n",
       "3  matador versus banteng bantengya silfester             negative  \n",
       "4                  selverter wawas ilmu rokcy             negative  "
      ]
     },
     "execution_count": 10,
     "metadata": {},
     "output_type": "execute_result"
    }
   ],
   "source": [
    "youtube_dataset.to_csv(\"../data/youtube-comment-cleaned-sentiment.csv\", index=False)\n",
    "youtube_dataset.head()"
   ]
  },
  {
   "cell_type": "markdown",
   "metadata": {},
   "source": [
    "### Balance Sentiment Data"
   ]
  },
  {
   "cell_type": "code",
   "execution_count": 11,
   "metadata": {},
   "outputs": [
    {
     "name": "stdout",
     "output_type": "stream",
     "text": [
      "sentiment_prediction\n",
      "negative    57\n",
      "neutral     57\n",
      "positive    57\n",
      "Name: count, dtype: int64\n"
     ]
    },
    {
     "name": "stderr",
     "output_type": "stream",
     "text": [
      "C:\\Users\\ACER\\AppData\\Local\\Temp\\ipykernel_12836\\3393737824.py:3: DeprecationWarning: DataFrameGroupBy.apply operated on the grouping columns. This behavior is deprecated, and in a future version of pandas the grouping columns will be excluded from the operation. Either pass `include_groups=False` to exclude the groupings or explicitly select the grouping columns after groupby to silence this warning.\n",
      "  dataset_balanced = youtube_dataset.groupby('sentiment_prediction').apply(lambda x: x.sample(min_count)).reset_index(drop=True)\n"
     ]
    }
   ],
   "source": [
    "check_sentiment = youtube_dataset[\"sentiment_prediction\"].value_counts()\n",
    "min_count = check_sentiment.min()\n",
    "dataset_balanced = youtube_dataset.groupby('sentiment_prediction').apply(lambda x: x.sample(min_count)).reset_index(drop=True)\n",
    "print(dataset_balanced[\"sentiment_prediction\"].value_counts())"
   ]
  },
  {
   "cell_type": "code",
   "execution_count": 12,
   "metadata": {},
   "outputs": [],
   "source": [
    "dataset_balanced.to_csv(\"../data/youtube-comment-cleaned-sentiment-balanced.csv\", index=False)"
   ]
  },
  {
   "cell_type": "markdown",
   "metadata": {},
   "source": [
    "### Reformating Column"
   ]
  },
  {
   "cell_type": "code",
   "execution_count": 13,
   "metadata": {},
   "outputs": [
    {
     "data": {
      "text/html": [
       "<div>\n",
       "<style scoped>\n",
       "    .dataframe tbody tr th:only-of-type {\n",
       "        vertical-align: middle;\n",
       "    }\n",
       "\n",
       "    .dataframe tbody tr th {\n",
       "        vertical-align: top;\n",
       "    }\n",
       "\n",
       "    .dataframe thead th {\n",
       "        text-align: right;\n",
       "    }\n",
       "</style>\n",
       "<table border=\"1\" class=\"dataframe\">\n",
       "  <thead>\n",
       "    <tr style=\"text-align: right;\">\n",
       "      <th></th>\n",
       "      <th>cleaned_stemmed</th>\n",
       "      <th>sentiment_prediction</th>\n",
       "    </tr>\n",
       "  </thead>\n",
       "  <tbody>\n",
       "    <tr>\n",
       "      <th>0</th>\n",
       "      <td>tukang korup pancing kasi keluarga anak</td>\n",
       "      <td>negative</td>\n",
       "    </tr>\n",
       "    <tr>\n",
       "      <th>1</th>\n",
       "      <td>bodoh hadir tepuk tangan rocky</td>\n",
       "      <td>negative</td>\n",
       "    </tr>\n",
       "    <tr>\n",
       "      <th>2</th>\n",
       "      <td>rocky penhianat</td>\n",
       "      <td>positive</td>\n",
       "    </tr>\n",
       "    <tr>\n",
       "      <th>3</th>\n",
       "      <td>matador versus banteng bantengya silfester</td>\n",
       "      <td>negative</td>\n",
       "    </tr>\n",
       "    <tr>\n",
       "      <th>4</th>\n",
       "      <td>selverter wawas ilmu rokcy</td>\n",
       "      <td>negative</td>\n",
       "    </tr>\n",
       "  </tbody>\n",
       "</table>\n",
       "</div>"
      ],
      "text/plain": [
       "                              cleaned_stemmed sentiment_prediction\n",
       "0     tukang korup pancing kasi keluarga anak             negative\n",
       "1              bodoh hadir tepuk tangan rocky             negative\n",
       "2                             rocky penhianat             positive\n",
       "3  matador versus banteng bantengya silfester             negative\n",
       "4                  selverter wawas ilmu rokcy             negative"
      ]
     },
     "execution_count": 13,
     "metadata": {},
     "output_type": "execute_result"
    }
   ],
   "source": [
    "youtube_dataset_clean = youtube_dataset[[\"cleaned_stemmed\", \"sentiment_prediction\"]]\n",
    "youtube_dataset_clean.head()"
   ]
  },
  {
   "cell_type": "code",
   "execution_count": 14,
   "metadata": {},
   "outputs": [],
   "source": [
    "youtube_dataset_clean.to_csv(\"../data/youtube-comment-cleaned-sentiment-reformat.csv\", index=False)"
   ]
  },
  {
   "cell_type": "markdown",
   "metadata": {},
   "source": [
    "### Balance Data After Reformat"
   ]
  },
  {
   "cell_type": "code",
   "execution_count": 15,
   "metadata": {},
   "outputs": [
    {
     "name": "stdout",
     "output_type": "stream",
     "text": [
      "sentiment_prediction\n",
      "negative    57\n",
      "neutral     57\n",
      "positive    57\n",
      "Name: count, dtype: int64\n"
     ]
    },
    {
     "name": "stderr",
     "output_type": "stream",
     "text": [
      "C:\\Users\\ACER\\AppData\\Local\\Temp\\ipykernel_12836\\2143345064.py:3: DeprecationWarning: DataFrameGroupBy.apply operated on the grouping columns. This behavior is deprecated, and in a future version of pandas the grouping columns will be excluded from the operation. Either pass `include_groups=False` to exclude the groupings or explicitly select the grouping columns after groupby to silence this warning.\n",
      "  dataset_balanced = youtube_dataset_clean.groupby('sentiment_prediction').apply(lambda x: x.sample(min_count)).reset_index(drop=True)\n"
     ]
    }
   ],
   "source": [
    "check_sentiment = youtube_dataset_clean[\"sentiment_prediction\"].value_counts()\n",
    "min_count = check_sentiment.min()\n",
    "dataset_balanced = youtube_dataset_clean.groupby('sentiment_prediction').apply(lambda x: x.sample(min_count)).reset_index(drop=True)\n",
    "print(dataset_balanced[\"sentiment_prediction\"].value_counts())"
   ]
  },
  {
   "cell_type": "code",
   "execution_count": 16,
   "metadata": {},
   "outputs": [],
   "source": [
    "dataset_balanced.to_csv(\"../data/youtube-comment-cleaned-sentiment-reformat-balanced.csv\", index=False)"
   ]
  }
 ],
 "metadata": {
  "kernelspec": {
   "display_name": ".venv",
   "language": "python",
   "name": "python3"
  },
  "language_info": {
   "codemirror_mode": {
    "name": "ipython",
    "version": 3
   },
   "file_extension": ".py",
   "mimetype": "text/x-python",
   "name": "python",
   "nbconvert_exporter": "python",
   "pygments_lexer": "ipython3",
   "version": "3.12.5"
  }
 },
 "nbformat": 4,
 "nbformat_minor": 2
}
