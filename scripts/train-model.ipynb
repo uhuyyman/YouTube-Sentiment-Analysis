{
 "cells": [
  {
   "cell_type": "markdown",
   "metadata": {},
   "source": [
    "# Train Model"
   ]
  },
  {
   "cell_type": "markdown",
   "metadata": {},
   "source": [
    "## Import Library"
   ]
  },
  {
   "cell_type": "code",
   "execution_count": 1,
   "metadata": {},
   "outputs": [],
   "source": [
    "import pandas as pd\n",
    "from sklearn.model_selection import train_test_split\n",
    "from sklearn.feature_extraction.text import CountVectorizer\n",
    "from sklearn.naive_bayes import MultinomialNB\n",
    "from sklearn.pipeline import make_pipeline\n",
    "import pickle"
   ]
  },
  {
   "cell_type": "markdown",
   "metadata": {},
   "source": [
    "## Define Train Function"
   ]
  },
  {
   "cell_type": "code",
   "execution_count": 2,
   "metadata": {},
   "outputs": [],
   "source": [
    "def train_and_save_model(csv_file, model_filename):\n",
    "    data = pd.read_csv(csv_file)\n",
    "    \n",
    "    X = data['cleaned_stemmed']\n",
    "    y = data['sentiment_prediction']\n",
    "\n",
    "    X_train, X_test, y_train, y_test = train_test_split(X, y, test_size=0.2, random_state=42)\n",
    "\n",
    "    model = make_pipeline(CountVectorizer(), MultinomialNB())\n",
    "\n",
    "    model.fit(X_train, y_train)\n",
    "    \n",
    "    with open(model_filename, 'wb') as file:\n",
    "        pickle.dump(model, file)\n",
    "    \n",
    "    print(f\"Model berhasil disimpan ke {model_filename}\")"
   ]
  },
  {
   "cell_type": "markdown",
   "metadata": {},
   "source": [
    "## Define Variable"
   ]
  },
  {
   "cell_type": "code",
   "execution_count": 3,
   "metadata": {},
   "outputs": [
    {
     "name": "stdout",
     "output_type": "stream",
     "text": [
      "Model berhasil disimpan ke ../model/naive-bayes-model-balanced.pkl\n"
     ]
    }
   ],
   "source": [
    "csv_file = '../data/youtube-comment-cleaned-sentiment-reformat-balanced.csv'\n",
    "model_filename = '../model/naive-bayes-model-balanced.pkl'\n",
    "\n",
    "train_and_save_model(csv_file, model_filename)"
   ]
  },
  {
   "cell_type": "code",
   "execution_count": 4,
   "metadata": {},
   "outputs": [
    {
     "name": "stdout",
     "output_type": "stream",
     "text": [
      "Model berhasil disimpan ke ../model/naive-bayes-model.pkl\n"
     ]
    }
   ],
   "source": [
    "csv_file = '../data/youtube-comment-cleaned-sentiment-reformat.csv'\n",
    "model_filename = '../model/naive-bayes-model.pkl'\n",
    "\n",
    "train_and_save_model(csv_file, model_filename)"
   ]
  }
 ],
 "metadata": {
  "kernelspec": {
   "display_name": ".venv",
   "language": "python",
   "name": "python3"
  },
  "language_info": {
   "codemirror_mode": {
    "name": "ipython",
    "version": 3
   },
   "file_extension": ".py",
   "mimetype": "text/x-python",
   "name": "python",
   "nbconvert_exporter": "python",
   "pygments_lexer": "ipython3",
   "version": "3.12.5"
  }
 },
 "nbformat": 4,
 "nbformat_minor": 2
}
